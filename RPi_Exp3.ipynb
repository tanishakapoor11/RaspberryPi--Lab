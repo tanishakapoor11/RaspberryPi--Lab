{
  "nbformat": 4,
  "nbformat_minor": 0,
  "metadata": {
    "colab": {
      "provenance": [],
      "authorship_tag": "ABX9TyPpn59En8QMf0214ClfTkYl",
      "include_colab_link": true
    },
    "kernelspec": {
      "name": "python3",
      "display_name": "Python 3"
    },
    "language_info": {
      "name": "python"
    }
  },
  "cells": [
    {
      "cell_type": "markdown",
      "metadata": {
        "id": "view-in-github",
        "colab_type": "text"
      },
      "source": [
        "<a href=\"https://colab.research.google.com/github/tanishakapoor11/RaspberryPi--Lab/blob/main/RPi_Exp3.ipynb\" target=\"_parent\"><img src=\"https://colab.research.google.com/assets/colab-badge.svg\" alt=\"Open In Colab\"/></a>"
      ]
    },
    {
      "cell_type": "markdown",
      "source": [
        "List Operations"
      ],
      "metadata": {
        "id": "I68FcjYP4AnI"
      }
    },
    {
      "cell_type": "code",
      "execution_count": 2,
      "metadata": {
        "colab": {
          "base_uri": "https://localhost:8080/"
        },
        "id": "p2w2Q1RW36q5",
        "outputId": "8fb2190e-ff57-4391-d350-e3cba29671e3"
      },
      "outputs": [
        {
          "output_type": "stream",
          "name": "stdout",
          "text": [
            "[1, 2, 4, 3, 9, 0]\n",
            "After swapping:  [0, 2, 4, 3, 9, 1]\n"
          ]
        }
      ],
      "source": [
        "# 1 Write a python program to interchange first and last elements in a list.\n",
        "def swap(numList):\n",
        "  n = len(numList)\n",
        "  temp = numList[0]\n",
        "  numList[0] = numList[n-1]\n",
        "  numList[n-1] = temp\n",
        "  return numList\n",
        "\n",
        "list1 = [1, 2, 4, 3, 9, 0]  \n",
        "print(list1)\n",
        "print(\"After swapping: \", swap(list1))"
      ]
    },
    {
      "cell_type": "code",
      "source": [
        "# 2 Write a Python program to find the second smallest number in a list.\n",
        "\n",
        "def secondSmallest(numList):\n",
        "  n= len(numList)\n",
        "  numList.sort()\n",
        "  print(\"Second smallest element is \", numList[1])\n",
        "\n",
        "list1 = [9, 8, 5, 1, 10, 22, 2, 58]\n",
        "print(list1)\n",
        "secondSmallest(list1)"
      ],
      "metadata": {
        "colab": {
          "base_uri": "https://localhost:8080/"
        },
        "id": "2UyhW-F55FBE",
        "outputId": "f7c95a39-a077-40c2-9613-5ee4e602cb12"
      },
      "execution_count": 3,
      "outputs": [
        {
          "output_type": "stream",
          "name": "stdout",
          "text": [
            "[9, 8, 5, 1, 10, 22, 2, 58]\n",
            "Second smallest element is  2\n"
          ]
        }
      ]
    },
    {
      "cell_type": "code",
      "source": [
        "# 3 Write the Python Program to merge two lists and sort it.\n",
        "\n",
        "list1 = []\n",
        "list2 = []\n",
        "num1 = int(input(\"Enter the number of elements for the first list: \"))\n",
        "for i in range(1, num1+1):\n",
        "  a = int(input(\"Enter the elements: \"))\n",
        "  list1.append(a)\n",
        "num2 = int(input(\"Enter the number of elements for the second list: \"))\n",
        "for i in range(1, num2+1):\n",
        "  b = int(input(\"Enter the elements: \"))\n",
        "  list2.append(b)\n",
        "\n",
        "list3 = list1+list2\n",
        "list3.sort()\n",
        "print(list3)"
      ],
      "metadata": {
        "colab": {
          "base_uri": "https://localhost:8080/"
        },
        "id": "cTCe-3GL6Ozf",
        "outputId": "af3fa815-3a43-4301-ffc4-926221188a73"
      },
      "execution_count": 4,
      "outputs": [
        {
          "output_type": "stream",
          "name": "stdout",
          "text": [
            "Enter the number of elements for the first list: 4\n",
            "Enter the elements: 9\n",
            "Enter the elements: 4\n",
            "Enter the elements: 10\n",
            "Enter the elements: 5\n",
            "Enter the number of elements for the second list: 5\n",
            "Enter the elements: 0\n",
            "Enter the elements: 7\n",
            "Enter the elements: 25\n",
            "Enter the elements: 15\n",
            "Enter the elements: 2\n",
            "[0, 2, 4, 5, 7, 9, 10, 15, 25]\n"
          ]
        }
      ]
    },
    {
      "cell_type": "code",
      "source": [
        "# 4 Write a python program to convert the list of string to list of list.\n",
        "\n",
        "def convert(str):\n",
        "  result = map(list,str)\n",
        "  return list(result)\n",
        "\n",
        "l_str = [\"Red\", \"Green\", \"Yellow\", \"Blue\"] \n",
        "print(convert(l_str))"
      ],
      "metadata": {
        "colab": {
          "base_uri": "https://localhost:8080/"
        },
        "id": "PpPRf16f7REd",
        "outputId": "2f6f6d45-b4a6-4a48-fff8-2b9bbd715d35"
      },
      "execution_count": 5,
      "outputs": [
        {
          "output_type": "stream",
          "name": "stdout",
          "text": [
            "[['R', 'e', 'd'], ['G', 'r', 'e', 'e', 'n'], ['Y', 'e', 'l', 'l', 'o', 'w'], ['B', 'l', 'u', 'e']]\n"
          ]
        }
      ]
    },
    {
      "cell_type": "code",
      "source": [
        "# 5 Write a Python program to generate and print a list of first and last 5 elements where\n",
        "# the values are square of numbers between 1 and 30 (both included).\n",
        "\n",
        "list1 = []\n",
        "for i in range(1,6):\n",
        "  list1 += [i**2]\n",
        "for i in range(6,26):\n",
        "  list1 += [i]\n",
        "for i in range (26,31):\n",
        "  list1 +=  [i**2]\n",
        "\n",
        "print(list1)  "
      ],
      "metadata": {
        "colab": {
          "base_uri": "https://localhost:8080/"
        },
        "id": "KKM3GNI98QiV",
        "outputId": "d952f261-5c42-4ddc-9596-b9e087193510"
      },
      "execution_count": 6,
      "outputs": [
        {
          "output_type": "stream",
          "name": "stdout",
          "text": [
            "[1, 4, 9, 16, 25, 6, 7, 8, 9, 10, 11, 12, 13, 14, 15, 16, 17, 18, 19, 20, 21, 22, 23, 24, 25, 676, 729, 784, 841, 900]\n"
          ]
        }
      ]
    },
    {
      "cell_type": "code",
      "source": [],
      "metadata": {
        "id": "u-WF8OJ68-yV"
      },
      "execution_count": null,
      "outputs": []
    }
  ]
}