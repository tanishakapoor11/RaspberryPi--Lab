{
  "nbformat": 4,
  "nbformat_minor": 0,
  "metadata": {
    "colab": {
      "provenance": [],
      "authorship_tag": "ABX9TyMNIUSTEvqO+5zGBzr6L7PR",
      "include_colab_link": true
    },
    "kernelspec": {
      "name": "python3",
      "display_name": "Python 3"
    },
    "language_info": {
      "name": "python"
    }
  },
  "cells": [
    {
      "cell_type": "markdown",
      "metadata": {
        "id": "view-in-github",
        "colab_type": "text"
      },
      "source": [
        "<a href=\"https://colab.research.google.com/github/tanishakapoor11/RaspberryPi--Lab/blob/main/RPi_Exp1.ipynb\" target=\"_parent\"><img src=\"https://colab.research.google.com/assets/colab-badge.svg\" alt=\"Open In Colab\"/></a>"
      ]
    },
    {
      "cell_type": "markdown",
      "source": [
        "Aim: To write programs using arithmetic and string operations"
      ],
      "metadata": {
        "id": "VaQG7FXB1qDX"
      }
    },
    {
      "cell_type": "code",
      "execution_count": 2,
      "metadata": {
        "colab": {
          "base_uri": "https://localhost:8080/"
        },
        "id": "0Ij7NR4_1eb4",
        "outputId": "5d7b3b11-c9de-4837-d8ab-8ece4ff1de51"
      },
      "outputs": [
        {
          "output_type": "stream",
          "name": "stdout",
          "text": [
            "Enter the first integer : 8\n",
            "Enter the second integer : 5\n",
            "8  +  5  =  13\n",
            "8  -  5  =  3\n",
            "8  *  5  =  40\n",
            "8  /  5  =  1\n"
          ]
        }
      ],
      "source": [
        "#1 Write a  Python program to perform arithmetic operations on two integers.\n",
        "\n",
        "a = int(input(\"Enter the first integer : \"))\n",
        "b = int(input(\"Enter the second integer : \"))\n",
        "\n",
        "print(a, \" + \",  b, \" = \", a+b)\n",
        "print(a, \" - \",  b, \" = \", a-b)\n",
        "print(a, \" * \",  b, \" = \", a*b)\n",
        "print(a, \" / \",  b, \" = \", a//b)"
      ]
    },
    {
      "cell_type": "code",
      "source": [
        "#2 Write a Python Program to find area of a circle\n",
        "import math\n",
        "r = int(input(\"Enter the radius of the circle : \"))\n",
        "area = math.pi * r**2\n",
        "print(\"Area of this circle is \", area)"
      ],
      "metadata": {
        "colab": {
          "base_uri": "https://localhost:8080/"
        },
        "id": "oUHe1whG3n3y",
        "outputId": "e39f6c21-3378-4dab-c0f0-8cbd8b74f2bc"
      },
      "execution_count": 3,
      "outputs": [
        {
          "output_type": "stream",
          "name": "stdout",
          "text": [
            "Enter the radius of the circle : 2\n",
            "Area of this circle is  12.566370614359172\n"
          ]
        }
      ]
    },
    {
      "cell_type": "code",
      "source": [
        "#3 Write a Python code to remove 6 characters from start of given string “Embedded Systems”\n",
        "s = \"Embedded Systems\"\n",
        "s_new = s[6:]\n",
        "print(s_new)"
      ],
      "metadata": {
        "colab": {
          "base_uri": "https://localhost:8080/"
        },
        "id": "Szq27ioK4cni",
        "outputId": "8fca50ed-1c8f-444d-d7d1-b1d52792ccd2"
      },
      "execution_count": 4,
      "outputs": [
        {
          "output_type": "stream",
          "name": "stdout",
          "text": [
            "ed Systems\n"
          ]
        }
      ]
    },
    {
      "cell_type": "code",
      "source": [
        "#4 Write the Python code to find length of String “Computer Science”. Replace science with Electronics and display.\n",
        "s = \"Computer Science\"\n",
        "print(len(s))\n",
        "print(s.replace(\"Science\", \"Electronics\"))"
      ],
      "metadata": {
        "colab": {
          "base_uri": "https://localhost:8080/"
        },
        "id": "WE9aj295u-MW",
        "outputId": "90d01669-085b-476e-b998-f8fdd3eb6f11"
      },
      "execution_count": 2,
      "outputs": [
        {
          "output_type": "stream",
          "name": "stdout",
          "text": [
            "16\n",
            "Computer Electronics\n"
          ]
        }
      ]
    },
    {
      "cell_type": "code",
      "source": [
        "#5 Write the Python program to reverse a string from user input\n",
        "s = input(\"Enter a string : \")\n",
        "print(s[::-1])"
      ],
      "metadata": {
        "colab": {
          "base_uri": "https://localhost:8080/"
        },
        "id": "xmmWF08dv_zO",
        "outputId": "0f3bd590-a35a-4d7c-8a26-8305277cbc19"
      },
      "execution_count": 3,
      "outputs": [
        {
          "output_type": "stream",
          "name": "stdout",
          "text": [
            "Enter a string : raspberry \n",
            " yrrebpsar\n"
          ]
        }
      ]
    },
    {
      "cell_type": "markdown",
      "source": [],
      "metadata": {
        "id": "y_Z-X7YA1oq8"
      }
    }
  ]
}