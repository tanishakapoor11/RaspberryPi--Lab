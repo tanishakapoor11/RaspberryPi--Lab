{
  "nbformat": 4,
  "nbformat_minor": 0,
  "metadata": {
    "colab": {
      "provenance": [],
      "authorship_tag": "ABX9TyN0d1Mpo1HzjEQe42wcBqMc",
      "include_colab_link": true
    },
    "kernelspec": {
      "name": "python3",
      "display_name": "Python 3"
    },
    "language_info": {
      "name": "python"
    }
  },
  "cells": [
    {
      "cell_type": "markdown",
      "metadata": {
        "id": "view-in-github",
        "colab_type": "text"
      },
      "source": [
        "<a href=\"https://colab.research.google.com/github/tanishakapoor11/RaspberryPi--Lab/blob/main/RPi_Exp4.ipynb\" target=\"_parent\"><img src=\"https://colab.research.google.com/assets/colab-badge.svg\" alt=\"Open In Colab\"/></a>"
      ]
    },
    {
      "cell_type": "markdown",
      "source": [
        "Dictionary Operations"
      ],
      "metadata": {
        "id": "myx9lAAj-MLt"
      }
    },
    {
      "cell_type": "code",
      "execution_count": 1,
      "metadata": {
        "colab": {
          "base_uri": "https://localhost:8080/"
        },
        "id": "hyM0r2nC9x4a",
        "outputId": "9867fbce-b596-4592-fe57-4099ed423886"
      },
      "outputs": [
        {
          "output_type": "stream",
          "name": "stdout",
          "text": [
            "Original dictionary: {1: 2, 3: 3, 2: 1, 0: 0}\n",
            "Sorted dictionary in ascending order: [(0, 0), (2, 1), (1, 2), (3, 3)]\n",
            "Sorted dictionary in descending order: [(3, 3), (1, 2), (2, 1), (0, 0)]\n"
          ]
        }
      ],
      "source": [
        "#1 Write a Python script to sort (ascending and descending) a dictionary by value\n",
        "import operator\n",
        "dict1 = {1:2, 3:4, 3:3, 2:1, 0:0}\n",
        "print(\"Original dictionary:\",dict1)\n",
        "dict2 = sorted(dict1.items(), key= operator.itemgetter(1))\n",
        "print(\"Sorted dictionary in ascending order:\", dict2)\n",
        "dict3 = sorted(dict1.items(), key= operator.itemgetter(1), reverse=True)\n",
        "print(\"Sorted dictionary in descending order:\", dict3)\n"
      ]
    },
    {
      "cell_type": "code",
      "source": [
        "# 2 Write a Python Program to generate a temperature profile dictionary (values in\n",
        "#range:30 to 100)for ten days randomly (from august 1 to august 31)  and check\n",
        "#whether august 10 data exist in a dictionary or not. (Key=date,value=temperate value)\n",
        "\n",
        "import random\n",
        "tempProfile = {}\n",
        "for i in range (11):\n",
        "  x=random.randrange(1,31)\n",
        "  y=random.randrange(30,100)\n",
        "  tempProfile[x]=y\n",
        "\n",
        "print(\"Day\\t\\t Temperature\")\n",
        "for day, temp in tempProfile.items():\n",
        "  print(\"August \", day, \"\\t\", temp)\n",
        "\n",
        "flag = 10 in tempProfile\n",
        "if flag==False:\n",
        "  print(\"Does not exist\")\n",
        "else:\n",
        "  print(\"It exists\")  \n"
      ],
      "metadata": {
        "colab": {
          "base_uri": "https://localhost:8080/"
        },
        "id": "QW9rZGIs-4jQ",
        "outputId": "dddf4b7e-be9b-466b-db94-c7b35a0d0832"
      },
      "execution_count": 4,
      "outputs": [
        {
          "output_type": "stream",
          "name": "stdout",
          "text": [
            "Day\t\t Temperature\n",
            "August  8 \t 50\n",
            "August  1 \t 31\n",
            "August  25 \t 84\n",
            "August  17 \t 97\n",
            "August  16 \t 57\n",
            "August  9 \t 63\n",
            "August  12 \t 46\n",
            "August  18 \t 66\n",
            "August  21 \t 66\n",
            "August  5 \t 94\n",
            "Does not exist\n"
          ]
        }
      ]
    },
    {
      "cell_type": "code",
      "source": [
        "# 3 In program 2, find the count of temperature 30,40 in the dictionary.\n",
        "import random\n",
        "tempProfile = {}\n",
        "c1=0\n",
        "c2=0\n",
        "for i in range(11):\n",
        "  x = random.randrange(1,31)\n",
        "  y = random.randrange(30,100)\n",
        "  tempProfile[x]=y\n",
        "\n",
        "print(\"Day\\t\\t Temperature\")  \n",
        "for day, temp in tempProfile.items():\n",
        "  print(\"August \", day, \"\\t\",temp)\n",
        "\n",
        "for j in tempProfile:\n",
        "  if tempProfile[j] == 30:\n",
        "    c1+=1\n",
        "  if tempProfile[j] ==40:\n",
        "    c2+=1    \n",
        "\n",
        "print(\"Count of temperature 30 in the profile is\",c1)    \n",
        "print(\"Count of temperature 40 in the profile is\",c2)   "
      ],
      "metadata": {
        "colab": {
          "base_uri": "https://localhost:8080/"
        },
        "id": "Wlkx20DrAt5p",
        "outputId": "aad0f85c-ecc5-4fdb-a3eb-6fce0698c6f9"
      },
      "execution_count": 6,
      "outputs": [
        {
          "output_type": "stream",
          "name": "stdout",
          "text": [
            "Day\t\t Temperature\n",
            "August  15 \t 50\n",
            "August  18 \t 94\n",
            "August  6 \t 33\n",
            "August  20 \t 90\n",
            "August  16 \t 33\n",
            "August  11 \t 46\n",
            "August  9 \t 39\n",
            "August  4 \t 32\n",
            "August  14 \t 94\n",
            "Count of temperature 30 in the profile is 0\n",
            "Count of temperature 40 in the profile is 0\n"
          ]
        }
      ]
    },
    {
      "cell_type": "code",
      "source": [
        "# 4 Repeat the program 2 for July month and write a python program to concatenate the\n",
        "# two dictionaries into one dictionary named July_aug_temp.\n",
        "\n",
        "import random\n",
        "from collections import defaultdict\n",
        "tempProfile_july = {}\n",
        "tempProfile_aug = {}\n",
        "july_aug_temp = defaultdict(list)\n",
        "for i in range (0,10):\n",
        "  x=random.randrange(1,31)\n",
        "  y=random.randrange(30,100)\n",
        "  s1 = \"July \"+str(x)    \n",
        "  tempProfile_july[s1]=y\n",
        "  m= random.randrange(1,31)\n",
        "  n = random.randrange(30,100)\n",
        "  s = \"August \"+str(m)\n",
        "  tempProfile_aug[s2]=n\n",
        "\n",
        "for tempProfile in (tempProfile_july, tempProfile_aug):\n",
        "  for key, value in tempProfile.items():\n",
        "    july_aug_temp[key].append(value)  \n",
        "\n",
        "print(\"Day\\t\\t Temperature\")          \n",
        "for day,temp in july_aug_temp.items():\n",
        "  print(day,\" \\t\", temp[0])                                                      "
      ],
      "metadata": {
        "colab": {
          "base_uri": "https://localhost:8080/"
        },
        "id": "wd0wuhOsB-IW",
        "outputId": "3b82bfe1-017e-4adc-9962-93aa4e29eac0"
      },
      "execution_count": 9,
      "outputs": [
        {
          "output_type": "stream",
          "name": "stdout",
          "text": [
            "Day\t\t Temperature\n",
            "July 2  \t 67\n",
            "July 20  \t 58\n",
            "July 27  \t 90\n",
            "July 11  \t 30\n",
            "July 29  \t 92\n",
            "July 16  \t 84\n",
            "July 9  \t 37\n",
            "July 7  \t 48\n",
            "July 1  \t 63\n",
            "August 15  \t 42\n"
          ]
        }
      ]
    },
    {
      "cell_type": "code",
      "source": [
        "#5Write a Python Program to multiply all the items in the dictionary\n",
        "#“July_aug_temp” which is generated in program 4 and find average temperate for the\n",
        "#two months"
      ],
      "metadata": {
        "id": "rZGujc8tVhXo"
      },
      "execution_count": null,
      "outputs": []
    }
  ]
}