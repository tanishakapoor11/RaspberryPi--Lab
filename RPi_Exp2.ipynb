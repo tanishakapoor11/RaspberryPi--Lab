{
  "nbformat": 4,
  "nbformat_minor": 0,
  "metadata": {
    "colab": {
      "provenance": [],
      "authorship_tag": "ABX9TyNgWGdKICTg1W3PHh705w5D",
      "include_colab_link": true
    },
    "kernelspec": {
      "name": "python3",
      "display_name": "Python 3"
    },
    "language_info": {
      "name": "python"
    }
  },
  "cells": [
    {
      "cell_type": "markdown",
      "metadata": {
        "id": "view-in-github",
        "colab_type": "text"
      },
      "source": [
        "<a href=\"https://colab.research.google.com/github/tanishakapoor11/RaspberryPi--Lab/blob/main/RPi_Exp2.ipynb\" target=\"_parent\"><img src=\"https://colab.research.google.com/assets/colab-badge.svg\" alt=\"Open In Colab\"/></a>"
      ]
    },
    {
      "cell_type": "markdown",
      "source": [
        "Loop Operations"
      ],
      "metadata": {
        "id": "aJl3nLwcw0nc"
      }
    },
    {
      "cell_type": "code",
      "execution_count": 1,
      "metadata": {
        "colab": {
          "base_uri": "https://localhost:8080/"
        },
        "id": "ZeYtAnGQwuJ6",
        "outputId": "06ea3e70-eadc-435e-d6bd-1f22a8ae1b5f"
      },
      "outputs": [
        {
          "output_type": "stream",
          "name": "stdout",
          "text": [
            "Enter a number : 6\n",
            "Enter another number : 9\n",
            "9  is greater than  6\n"
          ]
        }
      ],
      "source": [
        "#1 Write a function that returns the maximum of two numbers.\n",
        "a = int(input(\"Enter a number : \"))\n",
        "b = int(input(\"Enter another number : \"))\n",
        "if a>b:\n",
        "  print(a,\" is greater than \", b)\n",
        "elif a<b:\n",
        "  print(b,\" is greater than \", a)\n",
        "else:\n",
        "  print(\"both \",a,\" and \",b,\" are equal\")"
      ]
    },
    {
      "cell_type": "code",
      "source": [
        "#2 Write a function called divisible that takes a number. (Use if loop) \n",
        "#● If the number is divisible by 3, it should return “Three”.\n",
        "#● If it is divisible by 5, it should return “Five”.\n",
        "#● If it is divisible by both 3 and 5, it should return “Three and Five”\n",
        "#Otherwise, it should return the same number.\n",
        "\n",
        "def divisible(a):\n",
        "  if a%3==0:\n",
        "    print(\"Three\")\n",
        "  elif a%5==0:\n",
        "    print(\"Five\")\n",
        "  elif a%3==0  and a%5 == 0:\n",
        "    print(\"Three and Five\")\n",
        "  else:\n",
        "    print(a)\n",
        "\n",
        "num = int(input(\"Enter a number :\"))\n",
        "divisible(num)"
      ],
      "metadata": {
        "colab": {
          "base_uri": "https://localhost:8080/"
        },
        "id": "JrQhRhGhxmzf",
        "outputId": "d19399d2-9dc2-496c-8b59-67c21ab3bd66"
      },
      "execution_count": 8,
      "outputs": [
        {
          "output_type": "stream",
          "name": "stdout",
          "text": [
            "Enter a number :2\n",
            "2\n"
          ]
        }
      ]
    },
    {
      "cell_type": "code",
      "source": [
        "#3 Write a function for checking the speed of drivers. This function should have one parameter: speed.\n",
        "#a) If speed is less than 70, it should print “Ok”.\n",
        "#b) Otherwise, for every 5km above the speed limit (70), it should give the driver one demerit point and print the total number of demerit points. For example,\n",
        "#if the speed is 80, it should print: “Points: 2”.\n",
        "#c) If the driver gets more than 12 points, the function should print: “License suspended”\n",
        "\n",
        "def check(speed):\n",
        "  if speed<70:\n",
        "    print(\"OK\")\n",
        "  else:\n",
        "    print(\"Points = \",(speed-70)/5)\n",
        "    if ((speed-70)/5)>12:\n",
        "      print(\"License Suspended\")\n",
        "\n",
        "speed = int(input(\"Enter speed:\"))\n",
        "check(speed)"
      ],
      "metadata": {
        "colab": {
          "base_uri": "https://localhost:8080/"
        },
        "id": "oeLCKysUzkY4",
        "outputId": "c29b07a1-837d-47ca-8abc-47a68bc7a3ae"
      },
      "execution_count": 9,
      "outputs": [
        {
          "output_type": "stream",
          "name": "stdout",
          "text": [
            "Enter speed:100\n",
            "Points =  6.0\n"
          ]
        }
      ]
    },
    {
      "cell_type": "code",
      "source": [
        "#4 Write a function (Use for loop) called show Numbers that takes a parameter called limit. It should print all the numbers between 0 and limit with a label to\n",
        "#identify the even and odd numbers. For example, if the limit is 3, it should print:\n",
        "#a) 0 EVEN\n",
        "#b) 1 ODD\n",
        "#c) 2 EVEN\n",
        "#d) 3 ODD\n",
        "\n",
        "def showNumbers(limit):\n",
        "  for i in range (0, limit+1):\n",
        "    if i==0:\n",
        "      print(i, end=\" \")\n",
        "      print(\"EVEN\")\n",
        "    elif i%2==0:\n",
        "      print(i, end=\" \")   \n",
        "      print(\"EVEN\")\n",
        "    else:\n",
        "      print(i, end=\" \")\n",
        "      print(\"ODD\")\n",
        "\n",
        "limit = int(input(\"Enter the limit\"))     \n",
        "showNumbers(limit) "
      ],
      "metadata": {
        "colab": {
          "base_uri": "https://localhost:8080/"
        },
        "id": "xock7Lf91azN",
        "outputId": "858ea140-b091-4f05-f850-d82a3c77c661"
      },
      "execution_count": 10,
      "outputs": [
        {
          "output_type": "stream",
          "name": "stdout",
          "text": [
            "Enter the limit10\n",
            "0 EVEN\n",
            "1 ODD\n",
            "2 EVEN\n",
            "3 ODD\n",
            "4 EVEN\n",
            "5 ODD\n",
            "6 EVEN\n",
            "7 ODD\n",
            "8 EVEN\n",
            "9 ODD\n",
            "10 EVEN\n"
          ]
        }
      ]
    },
    {
      "cell_type": "code",
      "source": [
        "#5 Write a program using while loop to check the number n is less than seven. If it is less than seven, print n is less than 7 and add 1 to n. If it is greater than 7, print n is\n",
        "# not less than 7.\n",
        "\n",
        "n = int(input(\"Enter a number: \"))\n",
        "while n<7:\n",
        "  print(n,\" is less than 7\")\n",
        "  n=n+1\n",
        "print(n,\" is not less than 7\")  \n"
      ],
      "metadata": {
        "colab": {
          "base_uri": "https://localhost:8080/"
        },
        "id": "zUCkq0h82xTN",
        "outputId": "9d696491-0d39-4930-90cd-cae52218fbe7"
      },
      "execution_count": 11,
      "outputs": [
        {
          "output_type": "stream",
          "name": "stdout",
          "text": [
            "Enter a number: 8\n",
            "8  is not less than 7\n"
          ]
        }
      ]
    },
    {
      "cell_type": "code",
      "source": [],
      "metadata": {
        "id": "exNW2ZfP3cFJ"
      },
      "execution_count": null,
      "outputs": []
    }
  ]
}